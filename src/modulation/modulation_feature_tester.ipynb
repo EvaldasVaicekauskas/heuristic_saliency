{
 "cells": [
  {
   "cell_type": "code",
   "execution_count": null,
   "id": "16320bdd-11cf-4e2f-a357-29e91afa935b",
   "metadata": {},
   "outputs": [],
   "source": [
    "\n",
    "import os\n",
    "import cv2\n",
    "\n",
    "#import src.heuristics\n",
    "\n",
    "from heuristics.heuristics import *  # Pull in updated functions\n",
    "from utils import test_heuristic_visualization\n",
    "\n",
    "PROJECT_ROOT = \"/home/evaldas/PycharmProjects/heuristic_saliency\"\n",
    "INPUT_DIR = PROJECT_ROOT+\"/data/full_dataset/input_images/\"\n",
    "IMAGE_PATH = INPUT_DIR+\"pand_nature-morte-aux-fleurs-jaunes-1956 .jpg\"\n",
    "#IMAGE_PATH = INPUT_DIR+\"paint_15.png\"\n",
    "#IMAGE_PATH = INPUT_DIR+\"paint_93.png\"\n",
    "#IMAGE_PATH = INPUT_DIR+\"pand_crystal-19211 .jpg\"\n",
    "#IMAGE_PATH = INPUT_DIR + \"paint_5.png\""
   ]
  },
  {
   "cell_type": "code",
   "execution_count": null,
   "id": "95442af0-864f-4071-9ca5-2f85e110b4ac",
   "metadata": {},
   "outputs": [],
   "source": []
  }
 ],
 "metadata": {
  "kernelspec": {
   "display_name": "Python 3 (ipykernel)",
   "language": "python",
   "name": "python3"
  },
  "language_info": {
   "codemirror_mode": {
    "name": "ipython",
    "version": 3
   },
   "file_extension": ".py",
   "mimetype": "text/x-python",
   "name": "python",
   "nbconvert_exporter": "python",
   "pygments_lexer": "ipython3",
   "version": "3.12.3"
  }
 },
 "nbformat": 4,
 "nbformat_minor": 5
}
